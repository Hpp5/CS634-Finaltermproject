{
 "cells": [
  {
   "cell_type": "code",
   "execution_count": 315,
   "id": "5fdae8cf",
   "metadata": {},
   "outputs": [],
   "source": [
    "import numpy as np\n",
    "import matplotlib.pyplot as mlt\n",
    "import pandas as pd\n",
    "from sklearn import preprocessing\n",
    "from sklearn.model_selection import train_test_split\n",
    "from sklearn.preprocessing import StandardScaler\n",
    "from sklearn.ensemble import RandomForestClassifier\n",
    "from sklearn.model_selection import KFold, cross_validate, cross_val_predict\n",
    "from sklearn.metrics import confusion_matrix,make_scorer\n",
    "from sklearn.neighbors import KNeighborsClassifier\n"
   ]
  },
  {
   "cell_type": "code",
   "execution_count": 316,
   "id": "c7c61890",
   "metadata": {},
   "outputs": [],
   "source": [
    "dataset = pd.read_csv('/Users/himanipatel/Downloads/archive/chipotle_stores.csv')"
   ]
  },
  {
   "cell_type": "markdown",
   "id": "95c72c4c",
   "metadata": {},
   "source": [
    "dataset.head()"
   ]
  },
  {
   "cell_type": "code",
   "execution_count": 317,
   "id": "97bd39fc",
   "metadata": {},
   "outputs": [
    {
     "name": "stdout",
     "output_type": "stream",
     "text": [
      "<class 'pandas.core.frame.DataFrame'>\n",
      "RangeIndex: 2629 entries, 0 to 2628\n",
      "Data columns (total 5 columns):\n",
      " #   Column     Non-Null Count  Dtype  \n",
      "---  ------     --------------  -----  \n",
      " 0   state      2629 non-null   object \n",
      " 1   location   2629 non-null   object \n",
      " 2   address    2629 non-null   object \n",
      " 3   latitude   2629 non-null   float64\n",
      " 4   longitude  2629 non-null   float64\n",
      "dtypes: float64(2), object(3)\n",
      "memory usage: 102.8+ KB\n"
     ]
    }
   ],
   "source": [
    "dataset.info()"
   ]
  },
  {
   "cell_type": "code",
   "execution_count": 318,
   "id": "b67097b2",
   "metadata": {},
   "outputs": [
    {
     "data": {
      "text/html": [
       "<div>\n",
       "<style scoped>\n",
       "    .dataframe tbody tr th:only-of-type {\n",
       "        vertical-align: middle;\n",
       "    }\n",
       "\n",
       "    .dataframe tbody tr th {\n",
       "        vertical-align: top;\n",
       "    }\n",
       "\n",
       "    .dataframe thead th {\n",
       "        text-align: right;\n",
       "    }\n",
       "</style>\n",
       "<table border=\"1\" class=\"dataframe\">\n",
       "  <thead>\n",
       "    <tr style=\"text-align: right;\">\n",
       "      <th></th>\n",
       "      <th>latitude</th>\n",
       "      <th>longitude</th>\n",
       "    </tr>\n",
       "  </thead>\n",
       "  <tbody>\n",
       "    <tr>\n",
       "      <th>count</th>\n",
       "      <td>2629.000000</td>\n",
       "      <td>2629.000000</td>\n",
       "    </tr>\n",
       "    <tr>\n",
       "      <th>mean</th>\n",
       "      <td>37.515979</td>\n",
       "      <td>-92.490287</td>\n",
       "    </tr>\n",
       "    <tr>\n",
       "      <th>std</th>\n",
       "      <td>4.749089</td>\n",
       "      <td>16.578616</td>\n",
       "    </tr>\n",
       "    <tr>\n",
       "      <th>min</th>\n",
       "      <td>25.479009</td>\n",
       "      <td>-124.183611</td>\n",
       "    </tr>\n",
       "    <tr>\n",
       "      <th>25%</th>\n",
       "      <td>33.876535</td>\n",
       "      <td>-105.095673</td>\n",
       "    </tr>\n",
       "    <tr>\n",
       "      <th>50%</th>\n",
       "      <td>38.898082</td>\n",
       "      <td>-87.180851</td>\n",
       "    </tr>\n",
       "    <tr>\n",
       "      <th>75%</th>\n",
       "      <td>40.813125</td>\n",
       "      <td>-78.879958</td>\n",
       "    </tr>\n",
       "    <tr>\n",
       "      <th>max</th>\n",
       "      <td>48.785206</td>\n",
       "      <td>-68.753750</td>\n",
       "    </tr>\n",
       "  </tbody>\n",
       "</table>\n",
       "</div>"
      ],
      "text/plain": [
       "          latitude    longitude\n",
       "count  2629.000000  2629.000000\n",
       "mean     37.515979   -92.490287\n",
       "std       4.749089    16.578616\n",
       "min      25.479009  -124.183611\n",
       "25%      33.876535  -105.095673\n",
       "50%      38.898082   -87.180851\n",
       "75%      40.813125   -78.879958\n",
       "max      48.785206   -68.753750"
      ]
     },
     "execution_count": 318,
     "metadata": {},
     "output_type": "execute_result"
    }
   ],
   "source": [
    "dataset.describe()"
   ]
  },
  {
   "cell_type": "code",
   "execution_count": 319,
   "id": "68b2af5d",
   "metadata": {},
   "outputs": [],
   "source": [
    "A=dataset.drop(['address'],axis=1)\n",
    "B=dataset['state'].copy()"
   ]
  },
  {
   "cell_type": "code",
   "execution_count": 320,
   "id": "83805454",
   "metadata": {},
   "outputs": [
    {
     "data": {
      "text/html": [
       "<div>\n",
       "<style scoped>\n",
       "    .dataframe tbody tr th:only-of-type {\n",
       "        vertical-align: middle;\n",
       "    }\n",
       "\n",
       "    .dataframe tbody tr th {\n",
       "        vertical-align: top;\n",
       "    }\n",
       "\n",
       "    .dataframe thead th {\n",
       "        text-align: right;\n",
       "    }\n",
       "</style>\n",
       "<table border=\"1\" class=\"dataframe\">\n",
       "  <thead>\n",
       "    <tr style=\"text-align: right;\">\n",
       "      <th></th>\n",
       "      <th>state</th>\n",
       "      <th>location</th>\n",
       "      <th>latitude</th>\n",
       "      <th>longitude</th>\n",
       "    </tr>\n",
       "  </thead>\n",
       "  <tbody>\n",
       "    <tr>\n",
       "      <th>0</th>\n",
       "      <td>Alabama</td>\n",
       "      <td>Auburn</td>\n",
       "      <td>32.606813</td>\n",
       "      <td>-85.487328</td>\n",
       "    </tr>\n",
       "    <tr>\n",
       "      <th>1</th>\n",
       "      <td>Alabama</td>\n",
       "      <td>Birmingham</td>\n",
       "      <td>33.509721</td>\n",
       "      <td>-86.802756</td>\n",
       "    </tr>\n",
       "    <tr>\n",
       "      <th>2</th>\n",
       "      <td>Alabama</td>\n",
       "      <td>Birmingham</td>\n",
       "      <td>33.595581</td>\n",
       "      <td>-86.647437</td>\n",
       "    </tr>\n",
       "    <tr>\n",
       "      <th>3</th>\n",
       "      <td>Alabama</td>\n",
       "      <td>Birmingham</td>\n",
       "      <td>33.422582</td>\n",
       "      <td>-86.698279</td>\n",
       "    </tr>\n",
       "    <tr>\n",
       "      <th>4</th>\n",
       "      <td>Alabama</td>\n",
       "      <td>Cullman</td>\n",
       "      <td>34.154134</td>\n",
       "      <td>-86.841220</td>\n",
       "    </tr>\n",
       "  </tbody>\n",
       "</table>\n",
       "</div>"
      ],
      "text/plain": [
       "     state    location   latitude  longitude\n",
       "0  Alabama      Auburn  32.606813 -85.487328\n",
       "1  Alabama  Birmingham  33.509721 -86.802756\n",
       "2  Alabama  Birmingham  33.595581 -86.647437\n",
       "3  Alabama  Birmingham  33.422582 -86.698279\n",
       "4  Alabama     Cullman  34.154134 -86.841220"
      ]
     },
     "execution_count": 320,
     "metadata": {},
     "output_type": "execute_result"
    }
   ],
   "source": [
    "A.head()"
   ]
  },
  {
   "cell_type": "code",
   "execution_count": 321,
   "id": "a13066d3",
   "metadata": {},
   "outputs": [
    {
     "data": {
      "text/plain": [
       "0    Alabama\n",
       "1    Alabama\n",
       "2    Alabama\n",
       "3    Alabama\n",
       "4    Alabama\n",
       "Name: state, dtype: object"
      ]
     },
     "execution_count": 321,
     "metadata": {},
     "output_type": "execute_result"
    }
   ],
   "source": [
    "B.head()"
   ]
  },
  {
   "cell_type": "code",
   "execution_count": 322,
   "id": "11063360",
   "metadata": {},
   "outputs": [],
   "source": [
    "A[\"latitude\"]=A[\"latitude\"].fillna(A[\"latitude\"].mean())"
   ]
  },
  {
   "cell_type": "code",
   "execution_count": 323,
   "id": "691f7a71",
   "metadata": {},
   "outputs": [],
   "source": [
    "A[\"longitude\"]=A[\"longitude\"].fillna(A[\"longitude\"].mode()[0])"
   ]
  },
  {
   "cell_type": "code",
   "execution_count": 324,
   "id": "63fa6b4e",
   "metadata": {},
   "outputs": [
    {
     "name": "stdout",
     "output_type": "stream",
     "text": [
      "<class 'pandas.core.frame.DataFrame'>\n",
      "RangeIndex: 2629 entries, 0 to 2628\n",
      "Data columns (total 4 columns):\n",
      " #   Column     Non-Null Count  Dtype  \n",
      "---  ------     --------------  -----  \n",
      " 0   state      2629 non-null   object \n",
      " 1   location   2629 non-null   object \n",
      " 2   latitude   2629 non-null   float64\n",
      " 3   longitude  2629 non-null   float64\n",
      "dtypes: float64(2), object(2)\n",
      "memory usage: 82.3+ KB\n"
     ]
    }
   ],
   "source": [
    "A.info()"
   ]
  },
  {
   "cell_type": "code",
   "execution_count": 325,
   "id": "21406532",
   "metadata": {},
   "outputs": [
    {
     "data": {
      "text/plain": [
       "(2629, 4)"
      ]
     },
     "execution_count": 325,
     "metadata": {},
     "output_type": "execute_result"
    }
   ],
   "source": [
    "##feature scaling\n",
    "\n",
    "num_col = A._get_numeric_data().columns\n",
    "col=A.columns\n",
    "cat_col=list(set(col) - set(num_col))\n",
    "\n",
    "for col in cat_col:\n",
    "    le = preprocessing.LabelEncoder()\n",
    "    A[col] = le.fit_transform(A[col])\n",
    "A.shape"
   ]
  },
  {
   "cell_type": "code",
   "execution_count": 326,
   "id": "a3944214",
   "metadata": {},
   "outputs": [],
   "source": [
    "##splitting the dataset into the training set and the test set\n",
    "\n",
    "A_train, A_test, B_train, B_test = train_test_split(A, B, test_size = 0.30, random_state = 0)"
   ]
  },
  {
   "cell_type": "code",
   "execution_count": 327,
   "id": "8c8602c7",
   "metadata": {},
   "outputs": [],
   "source": [
    "sc = StandardScaler()\n",
    "A_train = sc.fit_transform(A_train)\n",
    "A_test = sc.transform(A_test)"
   ]
  },
  {
   "cell_type": "code",
   "execution_count": 328,
   "id": "2ea8c719",
   "metadata": {},
   "outputs": [
    {
     "data": {
      "text/plain": [
       "RandomForestClassifier(criterion='entropy', n_estimators=10, random_state=0)"
      ]
     },
     "execution_count": 328,
     "metadata": {},
     "output_type": "execute_result"
    }
   ],
   "source": [
    "##training the Random Forest model on the training set\n",
    "\n",
    "rndm_frst=RandomForestClassifier(n_estimators=10,criterion='entropy',random_state=0)\n",
    "rndm_frst.fit(A_train , B_train)"
   ]
  },
  {
   "cell_type": "code",
   "execution_count": 329,
   "id": "a8f516df",
   "metadata": {},
   "outputs": [],
   "source": [
    "##predecting the test set results\n",
    "B_rndm = rndm_frst.predict(A_test)"
   ]
  },
  {
   "cell_type": "code",
   "execution_count": 330,
   "id": "b40df77a",
   "metadata": {},
   "outputs": [
    {
     "name": "stdout",
     "output_type": "stream",
     "text": [
      "[[ 7  0  0 ...  0  0  0]\n",
      " [ 0 22  0 ...  0  0  0]\n",
      " [ 0  0  1 ...  0  0  0]\n",
      " ...\n",
      " [ 0  0  0 ...  2  0  0]\n",
      " [ 0  0  0 ...  0  7  0]\n",
      " [ 0  0  0 ...  0  0  0]]\n"
     ]
    }
   ],
   "source": [
    "##making the confusion matrix\n",
    "\n",
    "cm = confusion_matrix(B_test, B_rndm)\n",
    "print(cm)"
   ]
  },
  {
   "cell_type": "code",
   "execution_count": 331,
   "id": "26071401",
   "metadata": {},
   "outputs": [],
   "source": [
    "\n",
    "def tn(B_test,B_rndm): return confusion_matrix(B_test,B_rndm)[0,0]\n",
    "def tn(B_test,B_rndm): return confusion_matrix(B_test,B_rndm)[0,1]\n",
    "def tn(B_test,B_rndm): return confusion_matrix(B_test,B_rndm)[1,1]\n",
    "def tn(B_test,B_rndm): return confusion_matrix(B_test,B_rndm)[1,0]\n",
    "def tpr(B_test,B_rndm): \n",
    "    no_tp = confusion_matrix(B_test,B_rndm)[1,1]\n",
    "    no_fn = confusion_matrix(B_test,B_rndm)[1,0]\n",
    "    return round((no_tp / (no_tp + no_fn)),2)\n",
    "def tnr(B_test,B_rndm): \n",
    "    no_tn = confusion_matrix(B_test,B_rndm)[0,0]\n",
    "    no_fp = confusion_matrix(B_test,B_rndm)[0,1]\n",
    "    return round((no_tn / (no_tn + no_fp)),2)\n",
    "def fpr(B_test,B_rndm): \n",
    "    no_tn = confusion_matrix(B_test,B_rndm)[0,0]\n",
    "    no_fp = confusion_matrix(B_test,B_rndm)[0,1]\n",
    "    return round((no_fp / (no_tn + no_fp)),2)\n",
    "def fnr(B_test,B_rndm): \n",
    "    no_tp = confusion_matrix(B_test,B_rndm)[1,1]\n",
    "    no_fn = confusion_matrix(B_test,B_rndm)[1,0]\n",
    "    return round((no_fn / (no_tp + no_fn)),2)\n",
    "def Recall(B_test,B_rndm):\n",
    "    no_tp = confusion_matrix(B_test,B_rndm)[1,1]\n",
    "    no_fn = confusion_matrix(B_test,B_rndm)[1,0]\n",
    "    return round((no_tp / (no_tp + no_fn)),2)\n",
    "def Precision(B_test,B_rndm):\n",
    "    no_tp = confusion_matrix(B_test,B_rndm)[1,1]\n",
    "    no_fp = confusion_matrix(B_test,B_rndm)[0,1]\n",
    "    return round((no_tp / (no_tp + no_fp)),2)\n",
    "def F1Score(B_test,B_rndm):\n",
    "    no_tp = confusion_matrix(B_test,B_rndm)[1,1]\n",
    "    no_fp = confusion_matrix(B_test,B_rndm)[0,1]\n",
    "    no_fn = confusion_matrix(B_test,B_rndm)[1,0]\n",
    "    return round(((2*no_tp) / ((2*no_tp) + no_fp+no_fn)),2)\n",
    "def Accuracy(B_test,B_rndm):\n",
    "    no_tn = confusion_matrix(B_test,B_rndm)[0,0]\n",
    "    no_fp = confusion_matrix(B_test,B_rndm)[0,1]\n",
    "    no_tp = confusion_matrix(B_test,B_rndm)[1,1]\n",
    "    no_fn = confusion_matrix(B_test,B_rndm)[1,0]\n",
    "    return round(((no_tp + no_tn) / (no_tp + no_fp + no_fn + no_tn)),2)\n",
    "def Error(B_test,B_rndm):\n",
    "    no_tn = confusion_matrix(B_test,B_rndm)[0,0]\n",
    "    no_fp = confusion_matrix(B_test,B_rndm)[0,1]\n",
    "    no_tp = confusion_matrix(B_test,B_rndm)[1,1]\n",
    "    no_fn = confusion_matrix(B_test,B_rndm)[1,0]\n",
    "    return round(((no_fp + no_fn) / (no_tp + no_fp + no_fn + no_tn)),2)\n",
    "def BACC(B_test,B_rndm):\n",
    "    no_tn = confusion_matrix(B_test,B_rndm)[0,0]\n",
    "    no_fp = confusion_matrix(B_test,B_rndm)[0,1]\n",
    "    no_tp = confusion_matrix(B_test,B_rndm)[1,1]\n",
    "    no_fn = confusion_matrix(B_test,B_rndm)[1,0]\n",
    "    return round(0.5*((no_tp / (no_tp + no_fn))+(no_tn / (no_fp + no_tn))),2)\n",
    "def TSS(B_test,B_rndm):\n",
    "    no_tn = confusion_matrix(B_test,B_rndm)[0,0]\n",
    "    no_fp = confusion_matrix(B_test,B_rndm)[0,1]\n",
    "    no_tp = confusion_matrix(B_test,B_rndm)[1,1]\n",
    "    no_fn = confusion_matrix(B_test,B_rndm)[1,0]\n",
    "    return round((no_tp / (no_tp + no_fn))-(no_fp / (no_fp + no_tn)),2)\n",
    "def HSS(B_test,B_rndm):\n",
    "    no_tn = confusion_matrix(B_test,B_rndm)[0,0]\n",
    "    no_fp = confusion_matrix(B_test,B_rndm)[0,1]\n",
    "    no_tp = confusion_matrix(B_test,B_rndm)[1,1]\n",
    "    no_fn = confusion_matrix(B_test,B_rndm)[1,0]\n",
    "    return round((2*((no_tp * no_tn)-(no_fp * no_fn)))/(((no_tp + no_fn)*(no_fn + no_tn))+((no_tp + no_fp)*(no_fp + no_tn))),2)\n",
    "\n",
    "    \n",
    "\n",
    "#def tpr(ans_tp,ans_fn): return ans_tp/(ans_tp+ans_fn)\n",
    "scoring = {'tp': make_scorer(tp),'tn': make_scorer(tn),'fp': make_scorer(fp),'fn': make_scorer(fn),'tpr': make_scorer(tpr),\n",
    "           'tnr':make_scorer(tnr),'fpr':make_scorer(fpr),'fnr':make_scorer(fnr),'recall':make_scorer(Recall),\n",
    "           'precision':make_scorer(Precision),'F1Score':make_scorer(F1Score),\n",
    "           'Accuracy':make_scorer(Accuracy),'Error':make_scorer(Error),'BACC':make_scorer(BACC),'TSS':make_scorer(TSS),\n",
    "           'HSS':make_scorer(HSS)}"
   ]
  },
  {
   "cell_type": "code",
   "execution_count": 332,
   "id": "652f6a54",
   "metadata": {},
   "outputs": [
    {
     "name": "stdout",
     "output_type": "stream",
     "text": [
      "{'fit_time': array([0.06250978, 0.04787016, 0.050313  , 0.05007696, 0.04876494,\n",
      "       0.05768609, 0.04839611, 0.05898786, 0.04860282, 0.04801989]), 'score_time': array([0.04194713, 0.03874397, 0.05091214, 0.03914595, 0.04712987,\n",
      "       0.03983879, 0.03873086, 0.04940701, 0.03831911, 0.03856111]), 'test_tp': array([28,  3,  5,  1, 29,  9, 33,  7,  1,  8]), 'test_tn': array([0, 0, 0, 0, 0, 0, 0, 0, 0, 0]), 'test_fp': array([0, 0, 0, 0, 0, 0, 0, 0, 0, 0]), 'test_fn': array([0, 0, 0, 0, 0, 0, 0, 0, 0, 0]), 'test_tpr': array([1., 1., 1., 1., 1., 1., 1., 1., 1., 1.]), 'test_tnr': array([1., 1., 1., 1., 1., 1., 1., 1., 1., 1.]), 'test_fpr': array([0., 0., 0., 0., 0., 0., 0., 0., 0., 0.]), 'test_fnr': array([0., 0., 0., 0., 0., 0., 0., 0., 0., 0.]), 'test_recall': array([1., 1., 1., 1., 1., 1., 1., 1., 1., 1.]), 'test_precision': array([1., 1., 1., 1., 1., 1., 1., 1., 1., 1.]), 'test_F1Score': array([1., 1., 1., 1., 1., 1., 1., 1., 1., 1.]), 'test_Accuracy': array([1., 1., 1., 1., 1., 1., 1., 1., 1., 1.]), 'test_Error': array([0., 0., 0., 0., 0., 0., 0., 0., 0., 0.]), 'test_BACC': array([1., 1., 1., 1., 1., 1., 1., 1., 1., 1.]), 'test_TSS': array([1., 1., 1., 1., 1., 1., 1., 1., 1., 1.]), 'test_HSS': array([1., 1., 1., 1., 1., 1., 1., 1., 1., 1.])}\n"
     ]
    }
   ],
   "source": [
    "## Splits the dataset in the Kfolds\n",
    "cv = KFold(n_splits=10,random_state=1,shuffle=True)\n",
    "scores = cross_validate(rndm_frst,A_train,B_train,scoring = scoring,cv=cv)\n",
    "print(scores)"
   ]
  },
  {
   "cell_type": "code",
   "execution_count": 333,
   "id": "22a24c06",
   "metadata": {},
   "outputs": [],
   "source": [
    "column = ['Fold 1','Fold 2','Fold 3','Fold 4','Fold 5','Fold 6','Fold 7','Fold 8','Fold 9','Fold 10']\n",
    "row = ['TP','TN','FP','FN','TPR','TNR','FPR','FNR','Recall','Precision','Error','BACC','TSS','HSS','F1 Score','Accuracy']\n",
    " \n",
    "\n",
    "data_rf = [value for value in scores.values()]\n",
    "data_rf = data_rf[3:]"
   ]
  },
  {
   "cell_type": "code",
   "execution_count": 334,
   "id": "63c64a14",
   "metadata": {},
   "outputs": [
    {
     "name": "stdout",
     "output_type": "stream",
     "text": [
      "[[0, 0, 0, 0, 0, 0, 0, 0, 0, 0, 0.0], [0, 0, 0, 0, 0, 0, 0, 0, 0, 0, 0.0], [0, 0, 0, 0, 0, 0, 0, 0, 0, 0, 0.0], [1.0, 1.0, 1.0, 1.0, 1.0, 1.0, 1.0, 1.0, 1.0, 1.0, 1.0], [1.0, 1.0, 1.0, 1.0, 1.0, 1.0, 1.0, 1.0, 1.0, 1.0, 1.0], [0.0, 0.0, 0.0, 0.0, 0.0, 0.0, 0.0, 0.0, 0.0, 0.0, 0.0], [0.0, 0.0, 0.0, 0.0, 0.0, 0.0, 0.0, 0.0, 0.0, 0.0, 0.0], [1.0, 1.0, 1.0, 1.0, 1.0, 1.0, 1.0, 1.0, 1.0, 1.0, 1.0], [1.0, 1.0, 1.0, 1.0, 1.0, 1.0, 1.0, 1.0, 1.0, 1.0, 1.0], [1.0, 1.0, 1.0, 1.0, 1.0, 1.0, 1.0, 1.0, 1.0, 1.0, 1.0], [1.0, 1.0, 1.0, 1.0, 1.0, 1.0, 1.0, 1.0, 1.0, 1.0, 1.0], [0.0, 0.0, 0.0, 0.0, 0.0, 0.0, 0.0, 0.0, 0.0, 0.0, 0.0], [1.0, 1.0, 1.0, 1.0, 1.0, 1.0, 1.0, 1.0, 1.0, 1.0, 1.0], [1.0, 1.0, 1.0, 1.0, 1.0, 1.0, 1.0, 1.0, 1.0, 1.0, 1.0], [1.0, 1.0, 1.0, 1.0, 1.0, 1.0, 1.0, 1.0, 1.0, 1.0, 1.0]]\n"
     ]
    }
   ],
   "source": [
    "for i in range(len(data_rf)):\n",
    "    avg = round(sum(data_rf[i])/len(data_rf[i]),2)\n",
    "    temp = list(data_rf[i])\n",
    "    temp.append(avg)\n",
    "    data_rf[i]=temp\n",
    "print(data_rf)"
   ]
  },
  {
   "cell_type": "code",
   "execution_count": 335,
   "id": "a5376f5c",
   "metadata": {},
   "outputs": [
    {
     "name": "stderr",
     "output_type": "stream",
     "text": [
      "<ipython-input-335-0888d1b9131d>:12: UserWarning: Tight layout not applied. The left and right margins cannot be made large enough to accommodate all axes decorations. \n",
      "  fig3.tight_layout()\n"
     ]
    },
    {
     "data": {
      "image/png": "[encoded data removed]",
      "text/plain": [
       "<Figure size 432x288 with 1 Axes>"
      ]
     },
     "metadata": {
      "needs_background": "light"
     },
     "output_type": "display_data"
    }
   ],
   "source": [
    "import matplotlib.pyplot as plt\n",
    "fig3,ax3 = mlt.subplots()\n",
    "\n",
    "\n",
    "fig3.patch.set_visible(False)\n",
    "ax3.axis('off')\n",
    "\n",
    "\n",
    "the_table3=ax3.table(cellText=data_svm, rowLabels=row, colLabels=column,loc='center',colWidths=[0.25 for x in column])\n",
    "the_table3.auto_set_font_size(False)\n",
    "the_table3.set_fontsize(13)\n",
    "fig3.tight_layout()\n",
    "plt.show()"
   ]
  },
  {
   "cell_type": "code",
   "execution_count": 336,
   "id": "a377c1e7",
   "metadata": {},
   "outputs": [],
   "source": [
    "###SVM"
   ]
  },
  {
   "cell_type": "code",
   "execution_count": 337,
   "id": "444c9b7c",
   "metadata": {},
   "outputs": [
    {
     "data": {
      "text/plain": [
       "SVC(kernel='linear', random_state=0)"
      ]
     },
     "execution_count": 337,
     "metadata": {},
     "output_type": "execute_result"
    }
   ],
   "source": [
    "from sklearn.svm import SVC\n",
    "from sklearn import svm\n",
    "svm_clf=SVC(kernel='linear',random_state=0)\n",
    "svm_clf.fit(A_train,B_train)"
   ]
  },
  {
   "cell_type": "code",
   "execution_count": 338,
   "id": "79a0a264",
   "metadata": {},
   "outputs": [],
   "source": [
    "B_pred = classifier.predict(A_test)"
   ]
  },
  {
   "cell_type": "code",
   "execution_count": 339,
   "id": "6795552a",
   "metadata": {},
   "outputs": [
    {
     "name": "stdout",
     "output_type": "stream",
     "text": [
      "[[ 7  0  0 ...  0  0  0]\n",
      " [ 0 22  0 ...  0  0  0]\n",
      " [ 0  0  1 ...  0  0  0]\n",
      " ...\n",
      " [ 0  0  0 ...  0  0  0]\n",
      " [ 0  0  0 ...  0  7  0]\n",
      " [ 0  0  0 ...  0  0  0]]\n"
     ]
    }
   ],
   "source": [
    "from sklearn.metrics import confusion_matrix\n",
    "cm = confusion_matrix(B_test, B_pred)\n",
    "print(cm)"
   ]
  },
  {
   "cell_type": "code",
   "execution_count": 340,
   "id": "5f8994ce",
   "metadata": {},
   "outputs": [
    {
     "data": {
      "text/plain": [
       "array(['Pennsylvania', 'California', 'Virginia', 'Maryland', 'Oklahoma',\n",
       "       'Washington', 'California', 'Texas', 'Illinois', 'Pennsylvania',\n",
       "       'California', 'Ohio', 'Florida', 'Missouri', 'Pennsylvania',\n",
       "       'New York', 'Pennsylvania', 'Ohio', 'Virginia', 'Florida',\n",
       "       'Illinois', 'Minnesota', 'Illinois', 'Texas', 'California',\n",
       "       'Florida', 'Indiana', 'Kansas', 'Texas', 'Missouri', 'Maryland',\n",
       "       'Texas', 'Texas', 'Illinois', 'Minnesota', 'New York',\n",
       "       'Washington', 'South Carolina', 'Pennsylvania', 'Washington DC',\n",
       "       'Massachusetts', 'Texas', 'Colorado', 'Arizona', 'Ohio',\n",
       "       'California', 'Minnesota', 'Texas', 'Maryland', 'Pennsylvania',\n",
       "       'Ohio', 'Ohio', 'Ohio', 'Florida', 'Florida', 'Virginia',\n",
       "       'Missouri', 'California', 'Texas', 'Texas', 'California',\n",
       "       'Florida', 'Texas', 'Maryland', 'Washington', 'California',\n",
       "       'California', 'Rhode Island', 'Oregon', 'Missouri', 'California',\n",
       "       'California', 'California', 'Connecticut', 'Indiana', 'California',\n",
       "       'South Carolina', 'Ohio', 'Texas', 'Colorado', 'New York',\n",
       "       'Arizona', 'California', 'California', 'Kentucky', 'Ohio',\n",
       "       'California', 'Ohio', 'New York', 'California', 'Ohio',\n",
       "       'California', 'Washington', 'Pennsylvania', 'New York', 'Utah',\n",
       "       'Florida', 'Utah', 'Florida', 'California', 'North Carolina',\n",
       "       'Florida', 'Connecticut', 'Michigan', 'Tennessee', 'New York',\n",
       "       'Minnesota', 'Texas', 'Texas', 'Massachusetts', 'Wisconsin',\n",
       "       'Indiana', 'Kentucky', 'Ohio', 'Minnesota', 'California',\n",
       "       'Massachusetts', 'New Jersey', 'Georgia', 'Ohio', 'Pennsylvania',\n",
       "       'Ohio', 'Missouri', 'Illinois', 'Ohio', 'Kansas', 'California',\n",
       "       'Washington DC', 'Georgia', 'Maryland', 'North Carolina',\n",
       "       'California', 'Indiana', 'Ohio', 'Florida', 'New York', 'Kansas',\n",
       "       'California', 'Virginia', 'New York', 'Missouri', 'New York',\n",
       "       'New York', 'Michigan', 'Maryland', 'Maryland', 'Colorado',\n",
       "       'Maryland', 'Massachusetts', 'New Mexico', 'Texas', 'Virginia',\n",
       "       'Ohio', 'New Jersey', 'New York', 'Massachusetts', 'New York',\n",
       "       'Washington DC', 'Florida', 'Florida', 'Pennsylvania', 'Illinois',\n",
       "       'Florida', 'California', 'Colorado', 'Utah', 'Alabama',\n",
       "       'California', 'New York', 'Maryland', 'Colorado', 'North Carolina',\n",
       "       'Texas', 'North Carolina', 'Arizona', 'Florida', 'Washington',\n",
       "       'New York', 'New York', 'Illinois', 'California', 'Texas',\n",
       "       'Florida', 'Ohio', 'New York', 'California', 'Maryland',\n",
       "       'Minnesota', 'New Jersey', 'Pennsylvania', 'Florida', 'Oregon',\n",
       "       'Georgia', 'Florida', 'California', 'Texas', 'Nevada', 'Illinois',\n",
       "       'California', 'Illinois', 'Kentucky', 'California',\n",
       "       'North Carolina', 'California', 'Minnesota', 'New York',\n",
       "       'Tennessee', 'North Carolina', 'Delaware', 'Texas', 'Pennsylvania',\n",
       "       'North Carolina', 'Louisiana', 'Maryland', 'Virginia',\n",
       "       'California', 'Oregon', 'Virginia', 'Texas', 'Missouri',\n",
       "       'Maryland', 'California', 'California', 'Massachusetts',\n",
       "       'California', 'Florida', 'Minnesota', 'California', 'Illinois',\n",
       "       'Arkansas', 'Florida', 'Virginia', 'Pennsylvania', 'Washington',\n",
       "       'North Carolina', 'Nevada', 'California', 'California', 'Colorado',\n",
       "       'Florida', 'Texas', 'Virginia', 'Texas', 'Minnesota', 'New York',\n",
       "       'Georgia', 'New York', 'Florida', 'Ohio', 'Indiana', 'Tennessee',\n",
       "       'Arizona', 'Nevada', 'Washington DC', 'North Carolina', 'Oregon',\n",
       "       'California', 'Ohio', 'North Carolina', 'Pennsylvania', 'Arizona',\n",
       "       'Ohio', 'Texas', 'Oregon', 'Texas', 'Washington', 'Texas',\n",
       "       'Illinois', 'Arizona', 'Ohio', 'California', 'New York',\n",
       "       'California', 'Pennsylvania', 'California', 'Texas',\n",
       "       'Pennsylvania', 'Ohio', 'New York', 'New York', 'Florida',\n",
       "       'New York', 'Georgia', 'New York', 'Minnesota', 'Indiana',\n",
       "       'New York', 'Delaware', 'California', 'Illinois', 'Washington',\n",
       "       'Massachusetts', 'South Carolina', 'Arizona', 'Washington',\n",
       "       'New York', 'New Jersey', 'New York', 'Florida', 'Washington DC',\n",
       "       'Florida', 'Ohio', 'Texas', 'Washington', 'Florida', 'New York',\n",
       "       'Kansas', 'California', 'Ohio', 'California', 'Washington',\n",
       "       'Colorado', 'Colorado', 'Virginia', 'California', 'Florida',\n",
       "       'Michigan', 'Minnesota', 'California', 'North Carolina',\n",
       "       'Virginia', 'Colorado', 'Pennsylvania', 'Texas', 'New Mexico',\n",
       "       'Illinois', 'Washington DC', 'North Carolina', 'Maryland',\n",
       "       'Massachusetts', 'Illinois', 'California', 'Minnesota',\n",
       "       'Pennsylvania', 'New York', 'Massachusetts', 'Pennsylvania',\n",
       "       'California', 'Texas', 'Arizona', 'Colorado', 'Washington DC',\n",
       "       'Colorado', 'Texas', 'New York', 'Illinois', 'Virginia',\n",
       "       'New York', 'New York', 'Illinois', 'Utah', 'Texas', 'Wisconsin',\n",
       "       'Illinois', 'Illinois', 'Washington DC', 'Massachusetts',\n",
       "       'Maryland', 'Nebraska', 'Texas', 'Indiana', 'New York',\n",
       "       'Connecticut', 'Massachusetts', 'Michigan', 'California',\n",
       "       'Massachusetts', 'Maryland', 'Kansas', 'Minnesota', 'California',\n",
       "       'Kentucky', 'California', 'Ohio', 'Maryland', 'Texas', 'Virginia',\n",
       "       'Virginia', 'Texas', 'New York', 'Utah', 'Illinois', 'New York',\n",
       "       'Minnesota', 'Connecticut', 'Washington DC', 'Arizona',\n",
       "       'Wisconsin', 'New Mexico', 'Texas', 'Ohio', 'California',\n",
       "       'California', 'New York', 'Florida', 'Alabama', 'Oregon',\n",
       "       'New Jersey', 'Colorado', 'Indiana', 'California', 'Arizona',\n",
       "       'Virginia', 'Colorado', 'California', 'California', 'California',\n",
       "       'Oregon', 'New Jersey', 'Oklahoma', 'Ohio', 'Alabama',\n",
       "       'Massachusetts', 'California', 'Tennessee', 'Tennessee',\n",
       "       'Maryland', 'Ohio', 'Colorado', 'Arizona', 'Illinois',\n",
       "       'California', 'Illinois', 'California', 'Illinois', 'California',\n",
       "       'Ohio', 'California', 'Arizona', 'Ohio', 'Florida', 'New York',\n",
       "       'New York', 'Connecticut', 'Texas', 'Kentucky', 'California',\n",
       "       'Illinois', 'Arizona', 'Kansas', 'Texas', 'New York', 'Kentucky',\n",
       "       'California', 'Virginia', 'Texas', 'Illinois', 'New York',\n",
       "       'Illinois', 'New York', 'Texas', 'Idaho', 'Florida', 'Texas',\n",
       "       'California', 'New York', 'Ohio', 'Washington', 'Massachusetts',\n",
       "       'California', 'Texas', 'Washington DC', 'Massachusetts', 'Florida',\n",
       "       'Florida', 'Florida', 'California', 'Pennsylvania',\n",
       "       'Washington DC', 'Kansas', 'North Carolina', 'Alabama', 'Kentucky',\n",
       "       'California', 'Washington DC', 'Texas', 'New York', 'Texas',\n",
       "       'California', 'Wisconsin', 'Indiana', 'Ohio', 'Illinois', 'Texas',\n",
       "       'Texas', 'Florida', 'Florida', 'Illinois', 'California',\n",
       "       'Pennsylvania', 'California', 'Indiana', 'Ohio', 'Illinois',\n",
       "       'Colorado', 'California', 'California', 'Washington DC', 'Texas',\n",
       "       'Indiana', 'New York', 'Ohio', 'Oklahoma', 'Texas',\n",
       "       'Washington DC', 'Georgia', 'California', 'Texas', 'Pennsylvania',\n",
       "       'Virginia', 'New York', 'Virginia', 'California', 'Kansas',\n",
       "       'New Jersey', 'Arizona', 'Pennsylvania', 'Maryland', 'New York',\n",
       "       'New York', 'Ohio', 'Ohio', 'Ohio', 'Ohio', 'California',\n",
       "       'Illinois', 'New York', 'New York', 'Massachusetts', 'New York',\n",
       "       'California', 'California', 'Virginia', 'Texas', 'Minnesota',\n",
       "       'Missouri', 'Florida', 'Florida', 'Texas', 'California',\n",
       "       'Illinois', 'Ohio', 'New York', 'California', 'Texas',\n",
       "       'California', 'Minnesota', 'Arizona', 'Arizona', 'New York',\n",
       "       'Ohio', 'California', 'Texas', 'North Carolina', 'Minnesota',\n",
       "       'Ohio', 'Ohio', 'California', 'California', 'Pennsylvania',\n",
       "       'Alabama', 'California', 'Colorado', 'Virginia', 'California',\n",
       "       'New York', 'Georgia', 'Ohio', 'Pennsylvania', 'Texas', 'Maryland',\n",
       "       'New Jersey', 'Connecticut', 'Florida', 'New Jersey', 'Arizona',\n",
       "       'New York', 'Oregon', 'Illinois', 'Illinois', 'Connecticut',\n",
       "       'California', 'California', 'Texas', 'Georgia', 'California',\n",
       "       'Oregon', 'California', 'Pennsylvania', 'Wisconsin', 'Virginia',\n",
       "       'Texas', 'Kansas', 'Pennsylvania', 'Texas', 'Nevada', 'Colorado',\n",
       "       'Maryland', 'Arizona', 'New Jersey', 'California', 'Rhode Island',\n",
       "       'Colorado', 'Virginia', 'Kansas', 'Michigan', 'Texas', 'Ohio',\n",
       "       'Colorado', 'Kentucky', 'Virginia', 'Colorado', 'Texas',\n",
       "       'California', 'Texas', 'Arizona', 'Texas', 'Illinois', 'Florida',\n",
       "       'Pennsylvania', 'California', 'Pennsylvania', 'Illinois',\n",
       "       'Illinois', 'Texas', 'Nevada', 'Florida', 'Illinois', 'Virginia',\n",
       "       'Colorado', 'Ohio', 'New Jersey', 'Washington DC', 'Massachusetts',\n",
       "       'Massachusetts', 'Illinois', 'California', 'New York', 'Florida',\n",
       "       'Pennsylvania', 'Illinois', 'Colorado', 'Ohio', 'North Carolina',\n",
       "       'Michigan', 'Tennessee', 'Colorado', 'Washington', 'Texas',\n",
       "       'New York', 'Florida', 'Massachusetts', 'Alabama', 'Wisconsin',\n",
       "       'Minnesota', 'Minnesota', 'Florida', 'California', 'Nevada',\n",
       "       'California', 'New York', 'North Carolina', 'California', 'Texas',\n",
       "       'North Carolina', 'California', 'California', 'Texas', 'Ohio',\n",
       "       'Maryland', 'Arizona', 'Tennessee', 'California', 'California',\n",
       "       'Ohio', 'Nevada', 'Michigan', 'Florida', 'Virginia',\n",
       "       'Massachusetts', 'Arizona', 'Massachusetts', 'Georgia',\n",
       "       'California', 'Kansas', 'California', 'North Carolina', 'Florida',\n",
       "       'Colorado', 'Massachusetts', 'Maryland', 'Florida',\n",
       "       'North Carolina', 'New York', 'Minnesota', 'New York', 'Texas',\n",
       "       'Virginia', 'Texas', 'Ohio', 'Pennsylvania', 'California', 'Texas',\n",
       "       'Nevada', 'Florida', 'California', 'Oregon', 'Arizona', 'New York',\n",
       "       'Illinois', 'Georgia', 'Massachusetts', 'Maryland', 'California',\n",
       "       'Minnesota', 'California', 'Florida', 'California', 'Michigan',\n",
       "       'Indiana', 'Ohio', 'Florida', 'Ohio', 'Texas', 'California',\n",
       "       'Pennsylvania', 'Oregon', 'Washington', 'Georgia', 'Florida',\n",
       "       'Ohio', 'Maryland', 'Illinois', 'Ohio', 'Texas', 'California',\n",
       "       'Illinois', 'California', 'Nevada', 'Indiana', 'Texas', 'Texas',\n",
       "       'Pennsylvania', 'Alabama', 'Ohio', 'Ohio', 'Ohio', 'Texas',\n",
       "       'New York', 'Pennsylvania', 'California', 'Virginia', 'Ohio',\n",
       "       'Virginia', 'Colorado', 'Maryland', 'Illinois', 'Illinois',\n",
       "       'California', 'California', 'Texas', 'California',\n",
       "       'North Carolina', 'Michigan', 'Illinois', 'California', 'Illinois',\n",
       "       'Maryland', 'Wisconsin', 'North Carolina', 'Florida', 'New York',\n",
       "       'Illinois', 'Colorado', 'Illinois', 'Texas', 'California', 'Utah',\n",
       "       'Colorado', 'Florida', 'Massachusetts', 'Georgia', 'Minnesota',\n",
       "       'Ohio', 'Oklahoma', 'Florida', 'Illinois', 'Tennessee',\n",
       "       'California'], dtype=object)"
      ]
     },
     "execution_count": 340,
     "metadata": {},
     "output_type": "execute_result"
    }
   ],
   "source": [
    "#Apply model on test data\n",
    "y_pred_test=svm_clf.predict(A_test)\n",
    "y_pred_test"
   ]
  },
  {
   "cell_type": "code",
   "execution_count": 341,
   "id": "4fdc26c6",
   "metadata": {},
   "outputs": [
    {
     "data": {
      "text/plain": [
       "1.0"
      ]
     },
     "execution_count": 341,
     "metadata": {},
     "output_type": "execute_result"
    }
   ],
   "source": [
    "#Accuracy calculation\n",
    "from sklearn import metrics\n",
    "metrics.accuracy_score(B_test,B_test)"
   ]
  },
  {
   "cell_type": "code",
   "execution_count": 342,
   "id": "c8f78dfb",
   "metadata": {},
   "outputs": [
    {
     "data": {
      "text/plain": [
       "array([[ 7,  0,  0, ...,  0,  0,  0],\n",
       "       [ 0, 22,  0, ...,  0,  0,  0],\n",
       "       [ 0,  0,  1, ...,  0,  0,  0],\n",
       "       ...,\n",
       "       [ 0,  0,  0, ...,  2,  0,  0],\n",
       "       [ 0,  0,  0, ...,  0,  7,  0],\n",
       "       [ 0,  0,  0, ...,  0,  0,  1]])"
      ]
     },
     "execution_count": 342,
     "metadata": {},
     "output_type": "execute_result"
    }
   ],
   "source": [
    "#Create confusion matrix\n",
    "conf=metrics.confusion_matrix(B_test,B_test)\n",
    "conf"
   ]
  },
  {
   "cell_type": "code",
   "execution_count": 343,
   "id": "830ae264",
   "metadata": {},
   "outputs": [
    {
     "data": {
      "text/plain": [
       "(1.0, 1.0, 1.0, None)"
      ]
     },
     "execution_count": 343,
     "metadata": {},
     "output_type": "execute_result"
    }
   ],
   "source": [
    "#Precision, Recall, FScore\n",
    "pr_rcl=metrics.precision_recall_fscore_support(B_test,B_test,average='weighted')\n",
    "pr_rcl"
   ]
  },
  {
   "cell_type": "code",
   "execution_count": 344,
   "id": "917431c4",
   "metadata": {},
   "outputs": [
    {
     "name": "stdout",
     "output_type": "stream",
     "text": [
      "<built-in method values of dict object at 0x7f93a63b8880>\n"
     ]
    }
   ],
   "source": [
    "print(scores.values)"
   ]
  },
  {
   "cell_type": "code",
   "execution_count": 345,
   "id": "ca66a4ca",
   "metadata": {},
   "outputs": [],
   "source": [
    "data_svm = [value for value in scores.values()]\n",
    "data_svm = data_svm[2:]"
   ]
  },
  {
   "cell_type": "code",
   "execution_count": 346,
   "id": "7c28b7e2",
   "metadata": {},
   "outputs": [
    {
     "name": "stderr",
     "output_type": "stream",
     "text": [
      "<ipython-input-346-1e0f9bd62bb1>:11: UserWarning: Tight layout not applied. The left and right margins cannot be made large enough to accommodate all axes decorations. \n",
      "  fig3.tight_layout()\n"
     ]
    },
    {
     "data": {
      "image/png": "[encoded data removed]",
      "text/plain": [
       "<Figure size 432x288 with 1 Axes>"
      ]
     },
     "metadata": {
      "needs_background": "light"
     },
     "output_type": "display_data"
    }
   ],
   "source": [
    "fig3,ax3 = mlt.subplots()\n",
    "\n",
    "\n",
    "fig3.patch.set_visible(False)\n",
    "ax3.axis('off')\n",
    "\n",
    "\n",
    "the_table3=ax3.table(cellText=data_svm, rowLabels=row, colLabels=column,loc='center',colWidths=[0.25 for x in column])\n",
    "the_table3.auto_set_font_size(False)\n",
    "the_table3.set_fontsize(13)\n",
    "fig3.tight_layout()\n",
    "plt.show()"
   ]
  },
  {
   "cell_type": "code",
   "execution_count": 92,
   "id": "7413e3ec",
   "metadata": {},
   "outputs": [],
   "source": [
    "##LSTM"
   ]
  },
  {
   "cell_type": "code",
   "execution_count": 290,
   "id": "c31a441d",
   "metadata": {},
   "outputs": [],
   "source": [
    "import tensorflow as tf\n",
    "from tensorflow import keras\n",
    "from tensorflow.keras import layers\n",
    "from tensorflow.keras.utils import to_categorical\n",
    "from keras.layers import Dense,RNN,LSTM,Activation,Dropout\n",
    "from keras.models import Sequential"
   ]
  },
  {
   "cell_type": "code",
   "execution_count": 291,
   "id": "f8e6b3bd",
   "metadata": {},
   "outputs": [
    {
     "data": {
      "text/plain": [
       "(2629, 4)"
      ]
     },
     "execution_count": 291,
     "metadata": {},
     "output_type": "execute_result"
    }
   ],
   "source": [
    "A.shape"
   ]
  },
  {
   "cell_type": "code",
   "execution_count": 292,
   "id": "b17243f3",
   "metadata": {},
   "outputs": [
    {
     "data": {
      "text/plain": [
       "(2629,)"
      ]
     },
     "execution_count": 292,
     "metadata": {},
     "output_type": "execute_result"
    }
   ],
   "source": [
    "B.shape"
   ]
  },
  {
   "cell_type": "code",
   "execution_count": 293,
   "id": "18bd5d17",
   "metadata": {},
   "outputs": [],
   "source": [
    "A_train = np.reshape(A_train, (A_train.shape[0],A_train.shape[1],1))"
   ]
  },
  {
   "cell_type": "code",
   "execution_count": 305,
   "id": "c162c4b5",
   "metadata": {},
   "outputs": [],
   "source": [
    "A_train = np.reshape(A_train, (A_train.shape[0],A_train.shape[1],1))"
   ]
  },
  {
   "cell_type": "code",
   "execution_count": 306,
   "id": "dfb099d4",
   "metadata": {},
   "outputs": [
    {
     "name": "stdout",
     "output_type": "stream",
     "text": [
      "Epoch 1/101\n"
     ]
    },
    {
     "ename": "UnimplementedError",
     "evalue": " Cast string to float is not supported\n\t [[node binary_crossentropy/Cast\n (defined at /Users/himanipatel/opt/anaconda3/lib/python3.8/site-packages/keras/losses.py:1797)\n]] [Op:__inference_train_function_9674]\n\nErrors may have originated from an input operation.\nInput Source operations connected to node binary_crossentropy/Cast:\nIn[0] IteratorGetNext (defined at /Users/himanipatel/opt/anaconda3/lib/python3.8/site-packages/keras/engine/training.py:866)\n\nOperation defined at: (most recent call last)\n>>>   File \"/Users/himanipatel/opt/anaconda3/lib/python3.8/runpy.py\", line 194, in _run_module_as_main\n>>>     return _run_code(code, main_globals, None,\n>>> \n>>>   File \"/Users/himanipatel/opt/anaconda3/lib/python3.8/runpy.py\", line 87, in _run_code\n>>>     exec(code, run_globals)\n>>> \n>>>   File \"/Users/himanipatel/opt/anaconda3/lib/python3.8/site-packages/ipykernel_launcher.py\", line 16, in <module>\n>>>     app.launch_new_instance()\n>>> \n>>>   File \"/Users/himanipatel/opt/anaconda3/lib/python3.8/site-packages/traitlets/config/application.py\", line 845, in launch_instance\n>>>     app.start()\n>>> \n>>>   File \"/Users/himanipatel/opt/anaconda3/lib/python3.8/site-packages/ipykernel/kernelapp.py\", line 612, in start\n>>>     self.io_loop.start()\n>>> \n>>>   File \"/Users/himanipatel/opt/anaconda3/lib/python3.8/site-packages/tornado/platform/asyncio.py\", line 199, in start\n>>>     self.asyncio_loop.run_forever()\n>>> \n>>>   File \"/Users/himanipatel/opt/anaconda3/lib/python3.8/asyncio/base_events.py\", line 570, in run_forever\n>>>     self._run_once()\n>>> \n>>>   File \"/Users/himanipatel/opt/anaconda3/lib/python3.8/asyncio/base_events.py\", line 1859, in _run_once\n>>>     handle._run()\n>>> \n>>>   File \"/Users/himanipatel/opt/anaconda3/lib/python3.8/asyncio/events.py\", line 81, in _run\n>>>     self._context.run(self._callback, *self._args)\n>>> \n>>>   File \"/Users/himanipatel/opt/anaconda3/lib/python3.8/site-packages/tornado/ioloop.py\", line 688, in <lambda>\n>>>     lambda f: self._run_callback(functools.partial(callback, future))\n>>> \n>>>   File \"/Users/himanipatel/opt/anaconda3/lib/python3.8/site-packages/tornado/ioloop.py\", line 741, in _run_callback\n>>>     ret = callback()\n>>> \n>>>   File \"/Users/himanipatel/opt/anaconda3/lib/python3.8/site-packages/tornado/gen.py\", line 814, in inner\n>>>     self.ctx_run(self.run)\n>>> \n>>>   File \"/Users/himanipatel/opt/anaconda3/lib/python3.8/site-packages/tornado/gen.py\", line 775, in run\n>>>     yielded = self.gen.send(value)\n>>> \n>>>   File \"/Users/himanipatel/opt/anaconda3/lib/python3.8/site-packages/ipykernel/kernelbase.py\", line 365, in process_one\n>>>     yield gen.maybe_future(dispatch(*args))\n>>> \n>>>   File \"/Users/himanipatel/opt/anaconda3/lib/python3.8/site-packages/tornado/gen.py\", line 234, in wrapper\n>>>     yielded = ctx_run(next, result)\n>>> \n>>>   File \"/Users/himanipatel/opt/anaconda3/lib/python3.8/site-packages/ipykernel/kernelbase.py\", line 268, in dispatch_shell\n>>>     yield gen.maybe_future(handler(stream, idents, msg))\n>>> \n>>>   File \"/Users/himanipatel/opt/anaconda3/lib/python3.8/site-packages/tornado/gen.py\", line 234, in wrapper\n>>>     yielded = ctx_run(next, result)\n>>> \n>>>   File \"/Users/himanipatel/opt/anaconda3/lib/python3.8/site-packages/ipykernel/kernelbase.py\", line 543, in execute_request\n>>>     self.do_execute(\n>>> \n>>>   File \"/Users/himanipatel/opt/anaconda3/lib/python3.8/site-packages/tornado/gen.py\", line 234, in wrapper\n>>>     yielded = ctx_run(next, result)\n>>> \n>>>   File \"/Users/himanipatel/opt/anaconda3/lib/python3.8/site-packages/ipykernel/ipkernel.py\", line 306, in do_execute\n>>>     res = shell.run_cell(code, store_history=store_history, silent=silent)\n>>> \n>>>   File \"/Users/himanipatel/opt/anaconda3/lib/python3.8/site-packages/ipykernel/zmqshell.py\", line 536, in run_cell\n>>>     return super(ZMQInteractiveShell, self).run_cell(*args, **kwargs)\n>>> \n>>>   File \"/Users/himanipatel/opt/anaconda3/lib/python3.8/site-packages/IPython/core/interactiveshell.py\", line 2894, in run_cell\n>>>     result = self._run_cell(\n>>> \n>>>   File \"/Users/himanipatel/opt/anaconda3/lib/python3.8/site-packages/IPython/core/interactiveshell.py\", line 2940, in _run_cell\n>>>     return runner(coro)\n>>> \n>>>   File \"/Users/himanipatel/opt/anaconda3/lib/python3.8/site-packages/IPython/core/async_helpers.py\", line 68, in _pseudo_sync_runner\n>>>     coro.send(None)\n>>> \n>>>   File \"/Users/himanipatel/opt/anaconda3/lib/python3.8/site-packages/IPython/core/interactiveshell.py\", line 3165, in run_cell_async\n>>>     has_raised = await self.run_ast_nodes(code_ast.body, cell_name,\n>>> \n>>>   File \"/Users/himanipatel/opt/anaconda3/lib/python3.8/site-packages/IPython/core/interactiveshell.py\", line 3357, in run_ast_nodes\n>>>     if (await self.run_code(code, result,  async_=asy)):\n>>> \n>>>   File \"/Users/himanipatel/opt/anaconda3/lib/python3.8/site-packages/IPython/core/interactiveshell.py\", line 3437, in run_code\n>>>     exec(code_obj, self.user_global_ns, self.user_ns)\n>>> \n>>>   File \"<ipython-input-306-91f8e80d90bd>\", line 6, in <module>\n>>>     model.fit(A_train, B_train, epochs=101, batch_size=4000,validation_split=0.3)\n>>> \n>>>   File \"/Users/himanipatel/opt/anaconda3/lib/python3.8/site-packages/keras/utils/traceback_utils.py\", line 64, in error_handler\n>>>     return fn(*args, **kwargs)\n>>> \n>>>   File \"/Users/himanipatel/opt/anaconda3/lib/python3.8/site-packages/keras/engine/training.py\", line 1216, in fit\n>>>     tmp_logs = self.train_function(iterator)\n>>> \n>>>   File \"/Users/himanipatel/opt/anaconda3/lib/python3.8/site-packages/keras/engine/training.py\", line 878, in train_function\n>>>     return step_function(self, iterator)\n>>> \n>>>   File \"/Users/himanipatel/opt/anaconda3/lib/python3.8/site-packages/keras/engine/training.py\", line 867, in step_function\n>>>     outputs = model.distribute_strategy.run(run_step, args=(data,))\n>>> \n>>>   File \"/Users/himanipatel/opt/anaconda3/lib/python3.8/site-packages/keras/engine/training.py\", line 860, in run_step\n>>>     outputs = model.train_step(data)\n>>> \n>>>   File \"/Users/himanipatel/opt/anaconda3/lib/python3.8/site-packages/keras/engine/training.py\", line 809, in train_step\n>>>     loss = self.compiled_loss(\n>>> \n>>>   File \"/Users/himanipatel/opt/anaconda3/lib/python3.8/site-packages/keras/engine/compile_utils.py\", line 201, in __call__\n>>>     loss_value = loss_obj(y_t, y_p, sample_weight=sw)\n>>> \n>>>   File \"/Users/himanipatel/opt/anaconda3/lib/python3.8/site-packages/keras/losses.py\", line 141, in __call__\n>>>     losses = call_fn(y_true, y_pred)\n>>> \n>>>   File \"/Users/himanipatel/opt/anaconda3/lib/python3.8/site-packages/keras/losses.py\", line 245, in call\n>>>     return ag_fn(y_true, y_pred, **self._fn_kwargs)\n>>> \n>>>   File \"/Users/himanipatel/opt/anaconda3/lib/python3.8/site-packages/keras/losses.py\", line 1797, in binary_crossentropy\n>>>     y_true = tf.cast(y_true, y_pred.dtype)\n>>> ",
     "output_type": "error",
     "traceback": [
      "\u001b[0;31m---------------------------------------------------------------------------\u001b[0m",
      "\u001b[0;31mUnimplementedError\u001b[0m                        Traceback (most recent call last)",
      "\u001b[0;32m<ipython-input-306-91f8e80d90bd>\u001b[0m in \u001b[0;36m<module>\u001b[0;34m\u001b[0m\n\u001b[1;32m      4\u001b[0m \u001b[0mmodel\u001b[0m\u001b[0;34m.\u001b[0m\u001b[0madd\u001b[0m\u001b[0;34m(\u001b[0m\u001b[0mDense\u001b[0m\u001b[0;34m(\u001b[0m\u001b[0;36m1\u001b[0m\u001b[0;34m,\u001b[0m \u001b[0mactivation\u001b[0m\u001b[0;34m=\u001b[0m\u001b[0;34m'sigmoid'\u001b[0m\u001b[0;34m)\u001b[0m\u001b[0;34m)\u001b[0m\u001b[0;34m\u001b[0m\u001b[0;34m\u001b[0m\u001b[0m\n\u001b[1;32m      5\u001b[0m \u001b[0mmodel\u001b[0m\u001b[0;34m.\u001b[0m\u001b[0mcompile\u001b[0m\u001b[0;34m(\u001b[0m\u001b[0mloss\u001b[0m\u001b[0;34m=\u001b[0m\u001b[0;34m'binary_crossentropy'\u001b[0m\u001b[0;34m,\u001b[0m\u001b[0moptimizer\u001b[0m\u001b[0;34m=\u001b[0m\u001b[0;34m'adam'\u001b[0m\u001b[0;34m,\u001b[0m\u001b[0mmetrics\u001b[0m\u001b[0;34m=\u001b[0m\u001b[0;34m[\u001b[0m\u001b[0;34m'accuracy'\u001b[0m\u001b[0;34m]\u001b[0m\u001b[0;34m)\u001b[0m\u001b[0;34m\u001b[0m\u001b[0;34m\u001b[0m\u001b[0m\n\u001b[0;32m----> 6\u001b[0;31m \u001b[0mmodel\u001b[0m\u001b[0;34m.\u001b[0m\u001b[0mfit\u001b[0m\u001b[0;34m(\u001b[0m\u001b[0mA_train\u001b[0m\u001b[0;34m,\u001b[0m \u001b[0mB_train\u001b[0m\u001b[0;34m,\u001b[0m \u001b[0mepochs\u001b[0m\u001b[0;34m=\u001b[0m\u001b[0;36m101\u001b[0m\u001b[0;34m,\u001b[0m \u001b[0mbatch_size\u001b[0m\u001b[0;34m=\u001b[0m\u001b[0;36m4000\u001b[0m\u001b[0;34m,\u001b[0m\u001b[0mvalidation_split\u001b[0m\u001b[0;34m=\u001b[0m\u001b[0;36m0.3\u001b[0m\u001b[0;34m)\u001b[0m\u001b[0;34m\u001b[0m\u001b[0;34m\u001b[0m\u001b[0m\n\u001b[0m",
      "\u001b[0;32m~/opt/anaconda3/lib/python3.8/site-packages/keras/utils/traceback_utils.py\u001b[0m in \u001b[0;36merror_handler\u001b[0;34m(*args, **kwargs)\u001b[0m\n\u001b[1;32m     65\u001b[0m     \u001b[0;32mexcept\u001b[0m \u001b[0mException\u001b[0m \u001b[0;32mas\u001b[0m \u001b[0me\u001b[0m\u001b[0;34m:\u001b[0m  \u001b[0;31m# pylint: disable=broad-except\u001b[0m\u001b[0;34m\u001b[0m\u001b[0;34m\u001b[0m\u001b[0m\n\u001b[1;32m     66\u001b[0m       \u001b[0mfiltered_tb\u001b[0m \u001b[0;34m=\u001b[0m \u001b[0m_process_traceback_frames\u001b[0m\u001b[0;34m(\u001b[0m\u001b[0me\u001b[0m\u001b[0;34m.\u001b[0m\u001b[0m__traceback__\u001b[0m\u001b[0;34m)\u001b[0m\u001b[0;34m\u001b[0m\u001b[0;34m\u001b[0m\u001b[0m\n\u001b[0;32m---> 67\u001b[0;31m       \u001b[0;32mraise\u001b[0m \u001b[0me\u001b[0m\u001b[0;34m.\u001b[0m\u001b[0mwith_traceback\u001b[0m\u001b[0;34m(\u001b[0m\u001b[0mfiltered_tb\u001b[0m\u001b[0;34m)\u001b[0m \u001b[0;32mfrom\u001b[0m \u001b[0;32mNone\u001b[0m\u001b[0;34m\u001b[0m\u001b[0;34m\u001b[0m\u001b[0m\n\u001b[0m\u001b[1;32m     68\u001b[0m     \u001b[0;32mfinally\u001b[0m\u001b[0;34m:\u001b[0m\u001b[0;34m\u001b[0m\u001b[0;34m\u001b[0m\u001b[0m\n\u001b[1;32m     69\u001b[0m       \u001b[0;32mdel\u001b[0m \u001b[0mfiltered_tb\u001b[0m\u001b[0;34m\u001b[0m\u001b[0;34m\u001b[0m\u001b[0m\n",
      "\u001b[0;32m~/opt/anaconda3/lib/python3.8/site-packages/tensorflow/python/eager/execute.py\u001b[0m in \u001b[0;36mquick_execute\u001b[0;34m(op_name, num_outputs, inputs, attrs, ctx, name)\u001b[0m\n\u001b[1;32m     56\u001b[0m   \u001b[0;32mtry\u001b[0m\u001b[0;34m:\u001b[0m\u001b[0;34m\u001b[0m\u001b[0;34m\u001b[0m\u001b[0m\n\u001b[1;32m     57\u001b[0m     \u001b[0mctx\u001b[0m\u001b[0;34m.\u001b[0m\u001b[0mensure_initialized\u001b[0m\u001b[0;34m(\u001b[0m\u001b[0;34m)\u001b[0m\u001b[0;34m\u001b[0m\u001b[0;34m\u001b[0m\u001b[0m\n\u001b[0;32m---> 58\u001b[0;31m     tensors = pywrap_tfe.TFE_Py_Execute(ctx._handle, device_name, op_name,\n\u001b[0m\u001b[1;32m     59\u001b[0m                                         inputs, attrs, num_outputs)\n\u001b[1;32m     60\u001b[0m   \u001b[0;32mexcept\u001b[0m \u001b[0mcore\u001b[0m\u001b[0;34m.\u001b[0m\u001b[0m_NotOkStatusException\u001b[0m \u001b[0;32mas\u001b[0m \u001b[0me\u001b[0m\u001b[0;34m:\u001b[0m\u001b[0;34m\u001b[0m\u001b[0;34m\u001b[0m\u001b[0m\n",
      "\u001b[0;31mUnimplementedError\u001b[0m:  Cast string to float is not supported\n\t [[node binary_crossentropy/Cast\n (defined at /Users/himanipatel/opt/anaconda3/lib/python3.8/site-packages/keras/losses.py:1797)\n]] [Op:__inference_train_function_9674]\n\nErrors may have originated from an input operation.\nInput Source operations connected to node binary_crossentropy/Cast:\nIn[0] IteratorGetNext (defined at /Users/himanipatel/opt/anaconda3/lib/python3.8/site-packages/keras/engine/training.py:866)\n\nOperation defined at: (most recent call last)\n>>>   File \"/Users/himanipatel/opt/anaconda3/lib/python3.8/runpy.py\", line 194, in _run_module_as_main\n>>>     return _run_code(code, main_globals, None,\n>>> \n>>>   File \"/Users/himanipatel/opt/anaconda3/lib/python3.8/runpy.py\", line 87, in _run_code\n>>>     exec(code, run_globals)\n>>> \n>>>   File \"/Users/himanipatel/opt/anaconda3/lib/python3.8/site-packages/ipykernel_launcher.py\", line 16, in <module>\n>>>     app.launch_new_instance()\n>>> \n>>>   File \"/Users/himanipatel/opt/anaconda3/lib/python3.8/site-packages/traitlets/config/application.py\", line 845, in launch_instance\n>>>     app.start()\n>>> \n>>>   File \"/Users/himanipatel/opt/anaconda3/lib/python3.8/site-packages/ipykernel/kernelapp.py\", line 612, in start\n>>>     self.io_loop.start()\n>>> \n>>>   File \"/Users/himanipatel/opt/anaconda3/lib/python3.8/site-packages/tornado/platform/asyncio.py\", line 199, in start\n>>>     self.asyncio_loop.run_forever()\n>>> \n>>>   File \"/Users/himanipatel/opt/anaconda3/lib/python3.8/asyncio/base_events.py\", line 570, in run_forever\n>>>     self._run_once()\n>>> \n>>>   File \"/Users/himanipatel/opt/anaconda3/lib/python3.8/asyncio/base_events.py\", line 1859, in _run_once\n>>>     handle._run()\n>>> \n>>>   File \"/Users/himanipatel/opt/anaconda3/lib/python3.8/asyncio/events.py\", line 81, in _run\n>>>     self._context.run(self._callback, *self._args)\n>>> \n>>>   File \"/Users/himanipatel/opt/anaconda3/lib/python3.8/site-packages/tornado/ioloop.py\", line 688, in <lambda>\n>>>     lambda f: self._run_callback(functools.partial(callback, future))\n>>> \n>>>   File \"/Users/himanipatel/opt/anaconda3/lib/python3.8/site-packages/tornado/ioloop.py\", line 741, in _run_callback\n>>>     ret = callback()\n>>> \n>>>   File \"/Users/himanipatel/opt/anaconda3/lib/python3.8/site-packages/tornado/gen.py\", line 814, in inner\n>>>     self.ctx_run(self.run)\n>>> \n>>>   File \"/Users/himanipatel/opt/anaconda3/lib/python3.8/site-packages/tornado/gen.py\", line 775, in run\n>>>     yielded = self.gen.send(value)\n>>> \n>>>   File \"/Users/himanipatel/opt/anaconda3/lib/python3.8/site-packages/ipykernel/kernelbase.py\", line 365, in process_one\n>>>     yield gen.maybe_future(dispatch(*args))\n>>> \n>>>   File \"/Users/himanipatel/opt/anaconda3/lib/python3.8/site-packages/tornado/gen.py\", line 234, in wrapper\n>>>     yielded = ctx_run(next, result)\n>>> \n>>>   File \"/Users/himanipatel/opt/anaconda3/lib/python3.8/site-packages/ipykernel/kernelbase.py\", line 268, in dispatch_shell\n>>>     yield gen.maybe_future(handler(stream, idents, msg))\n>>> \n>>>   File \"/Users/himanipatel/opt/anaconda3/lib/python3.8/site-packages/tornado/gen.py\", line 234, in wrapper\n>>>     yielded = ctx_run(next, result)\n>>> \n>>>   File \"/Users/himanipatel/opt/anaconda3/lib/python3.8/site-packages/ipykernel/kernelbase.py\", line 543, in execute_request\n>>>     self.do_execute(\n>>> \n>>>   File \"/Users/himanipatel/opt/anaconda3/lib/python3.8/site-packages/tornado/gen.py\", line 234, in wrapper\n>>>     yielded = ctx_run(next, result)\n>>> \n>>>   File \"/Users/himanipatel/opt/anaconda3/lib/python3.8/site-packages/ipykernel/ipkernel.py\", line 306, in do_execute\n>>>     res = shell.run_cell(code, store_history=store_history, silent=silent)\n>>> \n>>>   File \"/Users/himanipatel/opt/anaconda3/lib/python3.8/site-packages/ipykernel/zmqshell.py\", line 536, in run_cell\n>>>     return super(ZMQInteractiveShell, self).run_cell(*args, **kwargs)\n>>> \n>>>   File \"/Users/himanipatel/opt/anaconda3/lib/python3.8/site-packages/IPython/core/interactiveshell.py\", line 2894, in run_cell\n>>>     result = self._run_cell(\n>>> \n>>>   File \"/Users/himanipatel/opt/anaconda3/lib/python3.8/site-packages/IPython/core/interactiveshell.py\", line 2940, in _run_cell\n>>>     return runner(coro)\n>>> \n>>>   File \"/Users/himanipatel/opt/anaconda3/lib/python3.8/site-packages/IPython/core/async_helpers.py\", line 68, in _pseudo_sync_runner\n>>>     coro.send(None)\n>>> \n>>>   File \"/Users/himanipatel/opt/anaconda3/lib/python3.8/site-packages/IPython/core/interactiveshell.py\", line 3165, in run_cell_async\n>>>     has_raised = await self.run_ast_nodes(code_ast.body, cell_name,\n>>> \n>>>   File \"/Users/himanipatel/opt/anaconda3/lib/python3.8/site-packages/IPython/core/interactiveshell.py\", line 3357, in run_ast_nodes\n>>>     if (await self.run_code(code, result,  async_=asy)):\n>>> \n>>>   File \"/Users/himanipatel/opt/anaconda3/lib/python3.8/site-packages/IPython/core/interactiveshell.py\", line 3437, in run_code\n>>>     exec(code_obj, self.user_global_ns, self.user_ns)\n>>> \n>>>   File \"<ipython-input-306-91f8e80d90bd>\", line 6, in <module>\n>>>     model.fit(A_train, B_train, epochs=101, batch_size=4000,validation_split=0.3)\n>>> \n>>>   File \"/Users/himanipatel/opt/anaconda3/lib/python3.8/site-packages/keras/utils/traceback_utils.py\", line 64, in error_handler\n>>>     return fn(*args, **kwargs)\n>>> \n>>>   File \"/Users/himanipatel/opt/anaconda3/lib/python3.8/site-packages/keras/engine/training.py\", line 1216, in fit\n>>>     tmp_logs = self.train_function(iterator)\n>>> \n>>>   File \"/Users/himanipatel/opt/anaconda3/lib/python3.8/site-packages/keras/engine/training.py\", line 878, in train_function\n>>>     return step_function(self, iterator)\n>>> \n>>>   File \"/Users/himanipatel/opt/anaconda3/lib/python3.8/site-packages/keras/engine/training.py\", line 867, in step_function\n>>>     outputs = model.distribute_strategy.run(run_step, args=(data,))\n>>> \n>>>   File \"/Users/himanipatel/opt/anaconda3/lib/python3.8/site-packages/keras/engine/training.py\", line 860, in run_step\n>>>     outputs = model.train_step(data)\n>>> \n>>>   File \"/Users/himanipatel/opt/anaconda3/lib/python3.8/site-packages/keras/engine/training.py\", line 809, in train_step\n>>>     loss = self.compiled_loss(\n>>> \n>>>   File \"/Users/himanipatel/opt/anaconda3/lib/python3.8/site-packages/keras/engine/compile_utils.py\", line 201, in __call__\n>>>     loss_value = loss_obj(y_t, y_p, sample_weight=sw)\n>>> \n>>>   File \"/Users/himanipatel/opt/anaconda3/lib/python3.8/site-packages/keras/losses.py\", line 141, in __call__\n>>>     losses = call_fn(y_true, y_pred)\n>>> \n>>>   File \"/Users/himanipatel/opt/anaconda3/lib/python3.8/site-packages/keras/losses.py\", line 245, in call\n>>>     return ag_fn(y_true, y_pred, **self._fn_kwargs)\n>>> \n>>>   File \"/Users/himanipatel/opt/anaconda3/lib/python3.8/site-packages/keras/losses.py\", line 1797, in binary_crossentropy\n>>>     y_true = tf.cast(y_true, y_pred.dtype)\n>>> "
     ]
    }
   ],
   "source": [
    "model = Sequential() # initializing model\n",
    "\n",
    "model.add(LSTM(units=60, return_sequences=False, input_shape=(A_train.shape[1],1)))\n",
    "model.add(Dense(1, activation='sigmoid'))\n",
    "model.compile(loss='binary_crossentropy',optimizer='adam',metrics=['accuracy'])\n",
    "model.fit(A_train, B_train, epochs=101, batch_size=4000,validation_split=0.3)"
   ]
  }
 ],
 "metadata": {
  "kernelspec": {
   "display_name": "Python 3",
   "language": "python",
   "name": "python3"
  },
  "language_info": {
   "codemirror_mode": {
    "name": "ipython",
    "version": 3
   },
   "file_extension": ".py",
   "mimetype": "text/x-python",
   "name": "python",
   "nbconvert_exporter": "python",
   "pygments_lexer": "ipython3",
   "version": "3.8.8"
  }
 },
 "nbformat": 4,
 "nbformat_minor": 5
}
